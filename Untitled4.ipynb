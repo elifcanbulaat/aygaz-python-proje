{
  "nbformat": 4,
  "nbformat_minor": 0,
  "metadata": {
    "colab": {
      "provenance": []
    },
    "kernelspec": {
      "name": "python3",
      "display_name": "Python 3"
    },
    "language_info": {
      "name": "python"
    }
  },
  "cells": [
    {
      "cell_type": "code",
      "source": [],
      "metadata": {
        "id": "BKw45qWskV6b"
      },
      "execution_count": null,
      "outputs": []
    },
    {
      "cell_type": "code",
      "source": [
        "import random #random modülünü çalıştırmak için aktif ediyoruz.\n",
        "def tas_kagit_makas_elif_zehra_canbulat():\n",
        "  print(' oyunda herkes taş, kağıt ve makastan birini seçer. taş, makası kırar. kağıt taşı sarar ve makas kağıdı keser.')\n",
        "  oyun_tekrari = 'evet'\n",
        "  while oyun_tekrari == 'evet': #oyuncu evet derse oyunu tekrak başlatmak için evet cevabı geldiği sürece dönecek döngü. geniş kapsamlı döngümüz\n",
        "    player_puan = 0\n",
        "    bilgisayar_puan = 0\n",
        "    tur_sayisi = 0\n",
        "    while player_puan < 2 and bilgisayar_puan < 2: # kimsenin puanı 2 değilken döngü başlar. ilk döngümüzn içine 2. döngüyü ekliyoruz.\n",
        "      player = input('taş, kağıt veya makas seçiniz:')\n",
        "      bilgisayar = random.choice(['taş' , 'kağıt' , 'makas']) #verilen liste içinden herhangi birini seçmesi için random.choice fonksiyonunu kullandık.\n",
        "      tur_sayisi += 1\n",
        "      if player == bilgisayar:\n",
        "        player_puan += 0\n",
        "        bilgisayar_puan += 0\n",
        "        tur_sayisi += 1\n",
        "        print(f\"Oyuncunun seçimi: {player}, bilgisayarın seçimi: {bilgisayar}. Kimse puan alamadı\")\n",
        "      elif player == 'taş':\n",
        "        if bilgisayar == 'kağıt':\n",
        "          bilgisayar_puan += 1\n",
        "          tur_sayisi += 1\n",
        "          print(f'bilgisayar kağıt seçti, player puan: {player_puan} ,bilgisayar puan: {bilgisayar_puan} ')\n",
        "        else:\n",
        "          player_puan += 1\n",
        "          print(f'bilgisayar makas seçti, player puan: {player_puan} ,bilgisayar puan: {bilgisayar_puan} ')\n",
        "          tur_sayisi += 1\n",
        "      elif player == 'kağıt':\n",
        "        if bilgisayar == 'makas':\n",
        "          bilgisayar_puan += 1\n",
        "          tur_sayisi += 1\n",
        "          print(f'bilgisayar makas seçti, player puan: {player_puan} ,bilgisayar puan: {bilgisayar_puan} ')\n",
        "\n",
        "        else:\n",
        "          player_puan += 1\n",
        "          tur_sayisi += 1\n",
        "          print(f'bilgisayar taş seçti, player puan: {player_puan} ,bilgisayar puan: {bilgisayar_puan} ')\n",
        "\n",
        "      elif player == 'makas':\n",
        "        if bilgisayar == 'taş':\n",
        "          bilgisayar_puan += 1\n",
        "          tur_sayisi += 1\n",
        "          print(f'bilgisayar taş seçti, player puan: {player_puan} ,bilgisayar puan: {bilgisayar_puan} ')\n",
        "\n",
        "        else:\n",
        "          player_puan += 1\n",
        "          tur_sayisi += 1\n",
        "          print(f'bilgisayar kağıt seçti, player puan {player_puan} ,bilgisayar puan: {bilgisayar_puan} ')\n",
        "\n",
        "    if tur_sayisi == 2 and bilgisayar_puan == 2:\n",
        "      print('bir dahaki sefere, bilgisayar kazandı.')\n",
        "    elif tur_sayisi == 2 and player_puan == 2:\n",
        "      print('tebrikler! çok iyisiniz, kazandınız.')\n",
        "    elif bilgisayar_puan == 2:\n",
        "      print('bilgisayar kazandı')\n",
        "      break\n",
        "    elif player_puan == 2:\n",
        "      print('tebrikler! çok iyisiniz, kazandınız.')\n",
        "      break\n",
        "\n",
        "    oyun_tekrari = input('tekrar oynamak ister misin , evet ya da hayır: ') # ilk while döngüsü içinde olduğu için evet cevabı yazdığımız sürece çalışacak ve oyun tekrar oynanacak. 2. while dögüsü ilk yazdığımızın içinde olduğu için onlar da dönmeye devam edecek.\n",
        "  print(\"Oyun bitti\")\n",
        "tas_kagit_makas_elif_zehra_canbulat()\n",
        "\n",
        "\n",
        "\"\""
      ],
      "metadata": {
        "id": "Gvp-uc8LFA8l",
        "colab": {
          "base_uri": "https://localhost:8080/",
          "height": 419
        },
        "outputId": "09430bf5-0832-4cab-ab63-5d3a123e5988"
      },
      "execution_count": 8,
      "outputs": [
        {
          "output_type": "stream",
          "name": "stdout",
          "text": [
            " oyunda herkes taş, kağıt ve makastan birini seçer. taş, makası kırar. kağıt taşı sarar ve makas kağıdı keser.\n",
            "taş, kağıt veya makas seçiniz:taş\n",
            "Oyuncunun seçimi: taş, bilgisayarın seçimi: taş. Kimse puan alamadı\n",
            "taş, kağıt veya makas seçiniz:taş\n",
            "Oyuncunun seçimi: taş, bilgisayarın seçimi: taş. Kimse puan alamadı\n",
            "taş, kağıt veya makas seçiniz:makas\n",
            "Oyuncunun seçimi: makas, bilgisayarın seçimi: makas. Kimse puan alamadı\n",
            "taş, kağıt veya makas seçiniz:makas\n",
            "bilgisayar kağıt seçti, player puan 1 ,bilgisayar puan: 0 \n",
            "taş, kağıt veya makas seçiniz:taş\n",
            "Oyuncunun seçimi: taş, bilgisayarın seçimi: taş. Kimse puan alamadı\n",
            "taş, kağıt veya makas seçiniz:taş\n",
            "bilgisayar kağıt seçti, player puan: 1 ,bilgisayar puan: 1 \n",
            "taş, kağıt veya makas seçiniz:taş\n",
            "Oyuncunun seçimi: taş, bilgisayarın seçimi: taş. Kimse puan alamadı\n",
            "taş, kağıt veya makas seçiniz:makas\n",
            "Oyuncunun seçimi: makas, bilgisayarın seçimi: makas. Kimse puan alamadı\n",
            "taş, kağıt veya makas seçiniz:makas\n",
            "bilgisayar taş seçti, player puan: 1 ,bilgisayar puan: 2 \n",
            "bilgisayar kazandı\n",
            "Oyun bitti\n"
          ]
        },
        {
          "output_type": "execute_result",
          "data": {
            "text/plain": [
              "''"
            ],
            "application/vnd.google.colaboratory.intrinsic+json": {
              "type": "string"
            }
          },
          "metadata": {},
          "execution_count": 8
        }
      ]
    }
  ]
}